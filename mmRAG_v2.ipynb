{
  "nbformat": 4,
  "nbformat_minor": 0,
  "metadata": {
    "colab": {
      "provenance": [],
      "collapsed_sections": [
        "qVU6svexMmd3",
        "I3fBg6sCW99j",
        "S3YMBRkdexLH",
        "-ymuL6THUBj8",
        "kz9VxtVjcPaV",
        "C5F9vQcw32iN",
        "MCtDW-JwGRhr"
      ],
      "authorship_tag": "ABX9TyOesuavuwJxhUWWsoxIxj9R"
    },
    "kernelspec": {
      "name": "python3",
      "display_name": "Python 3"
    },
    "language_info": {
      "name": "python"
    }
  },
  "cells": [
    {
      "cell_type": "markdown",
      "source": [
        "# Multimodal RAG 🔍\n",
        "\n",
        "Dev Info:\n",
        "- Embedding Dimension of gemini model: 768"
      ],
      "metadata": {
        "id": "-pNSscskWd8T"
      }
    },
    {
      "cell_type": "markdown",
      "source": [
        "# Phase 0 (Package Installations 💽)"
      ],
      "metadata": {
        "id": "qVU6svexMmd3"
      }
    },
    {
      "cell_type": "code",
      "source": [
        "!apt-get -qq install poppler-utils tesseract-ocr\n",
        "!apt-get -qq install ffmpeg\n",
        "%pip install -q --user --upgrade pillow\n",
        "%pip install -q unstructured[\"pdf\"]\n",
        "\n",
        "!pip install --quiet -U langchain-text-splitters tiktoken\n",
        "\n",
        "!pip install --quiet -U google-generativeai\n",
        "\n",
        "!pip install pymongo"
      ],
      "metadata": {
        "colab": {
          "base_uri": "https://localhost:8080/"
        },
        "id": "m5jNE8obI00H",
        "outputId": "069a7af3-cefc-4cf9-875a-46856fada490"
      },
      "execution_count": null,
      "outputs": [
        {
          "output_type": "stream",
          "name": "stdout",
          "text": [
            "Requirement already satisfied: pymongo in /usr/local/lib/python3.10/dist-packages (4.8.0)\n",
            "Requirement already satisfied: dnspython<3.0.0,>=1.16.0 in /usr/local/lib/python3.10/dist-packages (from pymongo) (2.6.1)\n"
          ]
        }
      ]
    },
    {
      "cell_type": "code",
      "source": [
        "# Install NLTK Data\n",
        "import nltk\n",
        "nltk.download('punkt')\n",
        "nltk.download('averaged_perceptron_tagger')"
      ],
      "metadata": {
        "colab": {
          "base_uri": "https://localhost:8080/"
        },
        "id": "P6zD2wmHI5zg",
        "outputId": "b71c58e7-0a82-4b72-a86d-387300adbffa"
      },
      "execution_count": null,
      "outputs": [
        {
          "output_type": "stream",
          "name": "stderr",
          "text": [
            "[nltk_data] Downloading package punkt to /root/nltk_data...\n",
            "[nltk_data]   Unzipping tokenizers/punkt.zip.\n",
            "[nltk_data] Downloading package averaged_perceptron_tagger to\n",
            "[nltk_data]     /root/nltk_data...\n",
            "[nltk_data]   Unzipping taggers/averaged_perceptron_tagger.zip.\n"
          ]
        },
        {
          "output_type": "execute_result",
          "data": {
            "text/plain": [
              "True"
            ]
          },
          "metadata": {},
          "execution_count": 4
        }
      ]
    },
    {
      "cell_type": "markdown",
      "source": [
        "# Phase 1.1 (Extraction of PDFs 📰 - Text & Image data):\n",
        "\n",
        "- Upload PDF\n",
        "- Extract text & images from PDF using `unstructured`\n",
        "- Split the text chunks based on token limit\n",
        "- Generate text embeddings for texts splitted\n",
        "- Generate image summary within token limit using LLM by passing image to Vision LLM `gemini`\n",
        "- Generate text embeddings for summary generated"
      ],
      "metadata": {
        "id": "I3fBg6sCW99j"
      }
    },
    {
      "cell_type": "code",
      "source": [
        "!mkdir -p pdfs\n",
        "!mkdir -p images\n",
        "!mkdir -p audios"
      ],
      "metadata": {
        "id": "-3ZIIKx_IGsO"
      },
      "execution_count": null,
      "outputs": []
    },
    {
      "cell_type": "code",
      "source": [
        "from unstructured.partition.pdf import partition_pdf\n",
        "import os\n",
        "from langchain_text_splitters import RecursiveCharacterTextSplitter\n",
        "import base64\n",
        "from google.colab import userdata\n",
        "import google.generativeai as genai\n",
        "import PIL.Image\n",
        "import subprocess"
      ],
      "metadata": {
        "id": "LH4Y35QOkZfi"
      },
      "execution_count": null,
      "outputs": []
    },
    {
      "cell_type": "code",
      "source": [
        "GOOGLE_API_KEY=userdata.get('GOOGLE_API_KEY')\n",
        "\n",
        "text_embedding_model = \"models/text-embedding-004\"\n",
        "text_embedding_model_for_text_splitting = \"text-embedding-3-small\" # since encoding of models/text-embedding-004 isn't available yet\n",
        "llm_model = 'gemini-1.5-flash'\n",
        "pdfs_folder_path = '/content/pdfs'\n",
        "images_folder_path = '/content/images'\n",
        "audios_folder_path = '/content/audios'\n",
        "extracted_pdfs = []\n",
        "extracted_audios = []\n",
        "texts_to_embed = []\n",
        "images_to_embed = []\n",
        "prompt = \"Please convert audio into text and give descriptive summary it has. Make sure it includes all information it had.\"\n",
        "\n",
        "text_splitter = RecursiveCharacterTextSplitter.from_tiktoken_encoder(\n",
        "    model_name=text_embedding_model_for_text_splitting,\n",
        "    chunk_size=150,\n",
        "    chunk_overlap=0,\n",
        ")\n",
        "\n",
        "genai.configure(api_key=GOOGLE_API_KEY)\n",
        "gemini_model = genai.GenerativeModel(model_name=llm_model)"
      ],
      "metadata": {
        "id": "qDyzt7Gd1wws"
      },
      "execution_count": null,
      "outputs": []
    },
    {
      "cell_type": "code",
      "source": [
        "for pdf_file in sorted(os.listdir(pdfs_folder_path)):\n",
        "  pdf_path = os.path.join(pdfs_folder_path, pdf_file)\n",
        "  print(\"Extracting content from PDF - \" + pdf_path)\n",
        "  try:\n",
        "    extracted_pdfs.append({\n",
        "        \"chunks\": partition_pdf(pdf_path,\n",
        "            extract_images_in_pdf=True,\n",
        "            extract_image_block_output_dir=os.path.join(images_folder_path, pdf_file)),\n",
        "        \"filename\": pdf_file\n",
        "      }\n",
        "    )\n",
        "  except PIL.UnidentifiedImageError as e:\n",
        "    print(f\"Error processing {pdf_file}: {e}\")"
      ],
      "metadata": {
        "collapsed": true,
        "id": "70kRjqQcD5Po",
        "colab": {
          "base_uri": "https://localhost:8080/"
        },
        "outputId": "f49eedda-3179-416d-c6cf-72081cd6c19d"
      },
      "execution_count": null,
      "outputs": [
        {
          "output_type": "stream",
          "name": "stdout",
          "text": [
            "Extracting content from PDF - /content/pdfs/gym_supps.pdf\n",
            "Extracting content from PDF - /content/pdfs/mm_rag.pdf\n"
          ]
        }
      ]
    },
    {
      "cell_type": "code",
      "source": [
        "[len(extracted_pdfs[i]['chunks']) for i in range(len(extracted_pdfs))]"
      ],
      "metadata": {
        "collapsed": true,
        "id": "Yv77KfR750SF",
        "colab": {
          "base_uri": "https://localhost:8080/"
        },
        "outputId": "5d428df9-7f49-46c5-9959-08136ccfb83b"
      },
      "execution_count": null,
      "outputs": [
        {
          "output_type": "execute_result",
          "data": {
            "text/plain": [
              "[41, 15]"
            ]
          },
          "metadata": {},
          "execution_count": 35
        }
      ]
    },
    {
      "cell_type": "code",
      "source": [
        "for extracted_pdf in extracted_pdfs:\n",
        "  total_chunks = len(extracted_pdf.get('chunks'))\n",
        "\n",
        "  for index, chunk in enumerate(extracted_pdf.get('chunks')):\n",
        "    print(f'Processing chunk {index+1}/{total_chunks} of {extracted_pdf.get(\"filename\")}');\n",
        "\n",
        "    if chunk.category != \"Image\":\n",
        "      splitted_text = text_splitter.split_text(chunk.text)\n",
        "      texts_to_embed.extend([{\n",
        "          \"type\": \"text\",\n",
        "          \"filename\": extracted_pdf.get('filename'),\n",
        "          \"text\": text,\n",
        "          \"embedding\": genai.embed_content(model=text_embedding_model, content=text)['embedding']} for text in splitted_text])"
      ],
      "metadata": {
        "collapsed": true,
        "id": "GD_g-Alk6cEc",
        "colab": {
          "base_uri": "https://localhost:8080/",
          "height": 989
        },
        "outputId": "b28ffefb-3b17-4e84-be14-625248f1135a"
      },
      "execution_count": null,
      "outputs": [
        {
          "output_type": "stream",
          "name": "stdout",
          "text": [
            "Processing chunk 1/41 of gym_supps.pdf\n",
            "Processing chunk 2/41 of gym_supps.pdf\n",
            "Processing chunk 3/41 of gym_supps.pdf\n",
            "Processing chunk 4/41 of gym_supps.pdf\n",
            "Processing chunk 5/41 of gym_supps.pdf\n",
            "Processing chunk 6/41 of gym_supps.pdf\n",
            "Processing chunk 7/41 of gym_supps.pdf\n",
            "Processing chunk 8/41 of gym_supps.pdf\n",
            "Processing chunk 9/41 of gym_supps.pdf\n",
            "Processing chunk 10/41 of gym_supps.pdf\n",
            "Processing chunk 11/41 of gym_supps.pdf\n",
            "Processing chunk 12/41 of gym_supps.pdf\n",
            "Processing chunk 13/41 of gym_supps.pdf\n",
            "Processing chunk 14/41 of gym_supps.pdf\n",
            "Processing chunk 15/41 of gym_supps.pdf\n",
            "Processing chunk 16/41 of gym_supps.pdf\n",
            "Processing chunk 17/41 of gym_supps.pdf\n",
            "Processing chunk 18/41 of gym_supps.pdf\n",
            "Processing chunk 19/41 of gym_supps.pdf\n",
            "Processing chunk 20/41 of gym_supps.pdf\n",
            "Processing chunk 21/41 of gym_supps.pdf\n",
            "Processing chunk 22/41 of gym_supps.pdf\n",
            "Processing chunk 23/41 of gym_supps.pdf\n",
            "Processing chunk 24/41 of gym_supps.pdf\n",
            "Processing chunk 25/41 of gym_supps.pdf\n",
            "Processing chunk 26/41 of gym_supps.pdf\n",
            "Processing chunk 27/41 of gym_supps.pdf\n",
            "Processing chunk 28/41 of gym_supps.pdf\n",
            "Processing chunk 29/41 of gym_supps.pdf\n",
            "Processing chunk 30/41 of gym_supps.pdf\n",
            "Processing chunk 31/41 of gym_supps.pdf\n",
            "Processing chunk 32/41 of gym_supps.pdf\n",
            "Processing chunk 33/41 of gym_supps.pdf\n",
            "Processing chunk 34/41 of gym_supps.pdf\n",
            "Processing chunk 35/41 of gym_supps.pdf\n",
            "Processing chunk 36/41 of gym_supps.pdf\n",
            "Processing chunk 37/41 of gym_supps.pdf\n",
            "Processing chunk 38/41 of gym_supps.pdf\n",
            "Processing chunk 39/41 of gym_supps.pdf\n",
            "Processing chunk 40/41 of gym_supps.pdf\n",
            "Processing chunk 41/41 of gym_supps.pdf\n",
            "Processing chunk 1/15 of mm_rag.pdf\n",
            "Processing chunk 2/15 of mm_rag.pdf\n",
            "Processing chunk 3/15 of mm_rag.pdf\n",
            "Processing chunk 4/15 of mm_rag.pdf\n",
            "Processing chunk 5/15 of mm_rag.pdf\n",
            "Processing chunk 6/15 of mm_rag.pdf\n",
            "Processing chunk 7/15 of mm_rag.pdf\n",
            "Processing chunk 8/15 of mm_rag.pdf\n",
            "Processing chunk 9/15 of mm_rag.pdf\n",
            "Processing chunk 10/15 of mm_rag.pdf\n",
            "Processing chunk 11/15 of mm_rag.pdf\n",
            "Processing chunk 12/15 of mm_rag.pdf\n",
            "Processing chunk 13/15 of mm_rag.pdf\n",
            "Processing chunk 14/15 of mm_rag.pdf\n",
            "Processing chunk 15/15 of mm_rag.pdf\n"
          ]
        }
      ]
    },
    {
      "cell_type": "code",
      "source": [
        "# texts_to_embed\n",
        "print(len(texts_to_embed))"
      ],
      "metadata": {
        "collapsed": true,
        "id": "5NzAIegM8zhG",
        "colab": {
          "base_uri": "https://localhost:8080/"
        },
        "outputId": "1ddda896-2d50-4871-98ce-cdb04d45a7f9"
      },
      "execution_count": null,
      "outputs": [
        {
          "output_type": "stream",
          "name": "stdout",
          "text": [
            "47\n"
          ]
        }
      ]
    },
    {
      "cell_type": "code",
      "source": [
        "def encode_image(image_path):\n",
        "    with open(image_path, \"rb\") as image_file:\n",
        "        return base64.b64encode(image_file.read()).decode('utf-8')\n",
        "\n",
        "for folder in sorted(os.listdir(images_folder_path)):\n",
        "  file_imgs_folder = os.path.join(images_folder_path, folder)\n",
        "\n",
        "  for img_file in sorted(os.listdir(file_imgs_folder)):\n",
        "    encoded_image = encode_image(os.path.join(file_imgs_folder, img_file))\n",
        "\n",
        "    print(\"Summarizing & embedding image - \" + os.path.join(file_imgs_folder, img_file))\n",
        "    raw_img = PIL.Image.open(os.path.join(file_imgs_folder, img_file))\n",
        "    gemini_res = gemini_model.generate_content([\"Give a brief description of attached image to store it in Vector Database for RAG Search within 100 tokens. Also specify its an image so that RAG can understand its an image description\", raw_img])\n",
        "    images_to_embed.append({\n",
        "        \"type\": \"image\",\n",
        "        \"base64_image\": encoded_image,\n",
        "        \"filename\": folder,\n",
        "        \"text\": gemini_res.text,\n",
        "        \"embedding\": genai.embed_content(model=text_embedding_model, content=gemini_res.text)['embedding']\n",
        "        })\n"
      ],
      "metadata": {
        "id": "HyT79OKqNTjd",
        "collapsed": true,
        "colab": {
          "base_uri": "https://localhost:8080/",
          "height": 173
        },
        "outputId": "b125e0e2-bc65-4693-b61e-9022967fc192"
      },
      "execution_count": null,
      "outputs": [
        {
          "output_type": "stream",
          "name": "stdout",
          "text": [
            "Summarizing & embedding image - /content/images/gym_supps.pdf/figure-1-1.jpg\n",
            "Summarizing & embedding image - /content/images/gym_supps.pdf/figure-1-2.jpg\n",
            "Summarizing & embedding image - /content/images/gym_supps.pdf/figure-1-3.jpg\n",
            "Summarizing & embedding image - /content/images/gym_supps.pdf/figure-3-4.jpg\n",
            "Summarizing & embedding image - /content/images/gym_supps.pdf/figure-3-5.jpg\n",
            "Summarizing & embedding image - /content/images/gym_supps.pdf/figure-3-6.jpg\n",
            "Summarizing & embedding image - /content/images/gym_supps.pdf/figure-3-7.jpg\n",
            "Summarizing & embedding image - /content/images/mm_rag.pdf/figure-1-1.jpg\n",
            "Summarizing & embedding image - /content/images/mm_rag.pdf/figure-2-2.jpg\n"
          ]
        }
      ]
    },
    {
      "cell_type": "code",
      "source": [
        "images_to_embed[0][\"text\"]\n",
        "# print(len(images_to_embed))"
      ],
      "metadata": {
        "collapsed": true,
        "id": "TV-gTwee-6I1",
        "colab": {
          "base_uri": "https://localhost:8080/",
          "height": 53
        },
        "outputId": "12812549-b27c-4ee8-8708-63934ab9053f"
      },
      "execution_count": null,
      "outputs": [
        {
          "output_type": "execute_result",
          "data": {
            "text/plain": [
              "'Image of a black tub of Optimum Nutrition Micronised Creatine powder. The tub is labeled with the product name, brand, and weight. It is a supplement for performance support.'"
            ],
            "application/vnd.google.colaboratory.intrinsic+json": {
              "type": "string"
            }
          },
          "metadata": {},
          "execution_count": 39
        }
      ]
    },
    {
      "cell_type": "markdown",
      "source": [
        "# Phase 1.2 (Extraction of Audios 🔊 - Audio data):\n",
        "\n",
        "- Upload Audios\n",
        "- Convert them to .opus\n",
        "- Pass it to Audio Model(gemini) and get txion\n",
        "- Split the txion into chunks based on tokens\n",
        "- Generate text embeddings for txion splitted"
      ],
      "metadata": {
        "id": "S3YMBRkdexLH"
      }
    },
    {
      "cell_type": "code",
      "source": [
        "def hit_gemini_for_audio(audio_path):\n",
        "  try:\n",
        "    print(f\"Transcribig {audio_path}\")\n",
        "    audio_file = genai.upload_file(path=audio_path)\n",
        "\n",
        "    response = gemini_model.generate_content([prompt, audio_file])\n",
        "\n",
        "    genai.delete_file(audio_file.name)\n",
        "\n",
        "    return response.text\n",
        "  except Exception as e:\n",
        "    print(f\"Error processing {audio_path}: {e}\")\n",
        "    return None\n",
        "\n",
        "\n",
        "for audio_file in sorted(os.listdir(audios_folder_path)):\n",
        "  audio_path = os.path.join(audios_folder_path, audio_file)\n",
        "  audio_path_converted = audio_path.replace(audios_folder_path, \"/tmp\")\n",
        "  splitted_temp = audio_path_converted.split('.')[0:-1]\n",
        "  audio_path_converted = \"\".join(splitted_temp) + \".opus\"\n",
        "\n",
        "  print(f\"Converting {audio_file} to .opus ...\")\n",
        "  command = [\"ffmpeg\", \"-i\", audio_path, audio_path_converted]\n",
        "  subprocess.run(command, check=True)\n",
        "\n",
        "  try:\n",
        "    print(\"Extracting content from Audio - \" + audio_path_converted)\n",
        "    txion = hit_gemini_for_audio(audio_path_converted)\n",
        "    if txion is not None:\n",
        "      extracted_audios.append({\n",
        "        \"filename\": audio_file,\n",
        "        \"text\": txion\n",
        "      })\n",
        "    print(f\"Finished processing {audio_path_converted}\")\n",
        "    os.remove(audio_path_converted)\n",
        "    print(f\"Cleaned up {audio_path_converted} \\n \\n\")\n",
        "  except Exception as e:\n",
        "    print(f\"Error processing {audio_file}: {e}\")\n",
        "\n",
        "\n",
        "for extracted_audio in extracted_audios:\n",
        "  print(\"Splitting and embedding Audio - \" + extracted_audio.get('filename'))\n",
        "  splitted_text = text_splitter.split_text(extracted_audio.get('text'))\n",
        "  texts_to_embed.extend([{\n",
        "      \"type\": \"audio\",\n",
        "      \"filename\": extracted_audio.get('filename'),\n",
        "      \"text\": text,\n",
        "      \"embedding\": genai.embed_content(model=text_embedding_model, content=text)['embedding']} for text in splitted_text])\n",
        "  print(f\"Finished processing {extracted_audio.get('filename')}\")"
      ],
      "metadata": {
        "id": "edJIq43-e3L0"
      },
      "execution_count": null,
      "outputs": []
    },
    {
      "cell_type": "markdown",
      "source": [
        "# Phase 2 (Storing Embeddings in DB 🥫):\n",
        "\n",
        "- Create a vector search index in mongoDB\n",
        "- Store text & embeddings in MongoDB Vector Store"
      ],
      "metadata": {
        "id": "-ymuL6THUBj8"
      }
    },
    {
      "cell_type": "code",
      "source": [
        "from pymongo import MongoClient\n",
        "\n",
        "client = MongoClient(userdata.get('MONGODB_URI'))\n",
        "collection = client['mm_rag']['pdfs']"
      ],
      "metadata": {
        "id": "scGDHKehVNBz"
      },
      "execution_count": null,
      "outputs": []
    },
    {
      "cell_type": "code",
      "source": [
        "print(f'Inserting {len(texts_to_embed) + len(images_to_embed)} records')\n",
        "collection.insert_many(texts_to_embed)\n",
        "collection.insert_many(images_to_embed)"
      ],
      "metadata": {
        "collapsed": true,
        "id": "W59VgnuUZhDN",
        "colab": {
          "base_uri": "https://localhost:8080/"
        },
        "outputId": "d1232149-5cc3-4f5b-df6b-886598d04689"
      },
      "execution_count": null,
      "outputs": [
        {
          "output_type": "stream",
          "name": "stdout",
          "text": [
            "Inserting 59 records\n"
          ]
        },
        {
          "output_type": "execute_result",
          "data": {
            "text/plain": [
              "InsertManyResult([ObjectId('669cceeb21d2bddfb9717a64'), ObjectId('669cceeb21d2bddfb9717a65'), ObjectId('669cceeb21d2bddfb9717a66'), ObjectId('669cceeb21d2bddfb9717a67'), ObjectId('669cceeb21d2bddfb9717a68'), ObjectId('669cceeb21d2bddfb9717a69'), ObjectId('669cceeb21d2bddfb9717a6a'), ObjectId('669cceeb21d2bddfb9717a6b'), ObjectId('669cceeb21d2bddfb9717a6c')], acknowledged=True)"
            ]
          },
          "metadata": {},
          "execution_count": 48
        }
      ]
    },
    {
      "cell_type": "code",
      "source": [
        "len(list(collection.find()))"
      ],
      "metadata": {
        "id": "Tkjk266hbL9U",
        "colab": {
          "base_uri": "https://localhost:8080/"
        },
        "outputId": "aedd8172-c137-4576-e1da-1f2492e7c5d0"
      },
      "execution_count": null,
      "outputs": [
        {
          "output_type": "execute_result",
          "data": {
            "text/plain": [
              "59"
            ]
          },
          "metadata": {},
          "execution_count": 49
        }
      ]
    },
    {
      "cell_type": "markdown",
      "source": [
        "# Phase 3 (RAG in action - Fetch relevant docs 🔍):\n",
        "\n",
        "- Take user query\n",
        "- Generate embedding vector for it\n",
        "- Query it against Vector Storage and pull top `5` matches"
      ],
      "metadata": {
        "id": "kz9VxtVjcPaV"
      }
    },
    {
      "cell_type": "code",
      "source": [
        "# user_query = input(\"Enter your query: \")\n",
        "\"\"\"\n",
        "PDFs loaded => mm_rag.pdf, gym_supps.pdf\n",
        "Audios loaded => resistance_vs_weight_training.mp3, lean_bulking.mp3\n",
        "\"\"\"\n",
        "\n",
        "\n",
        "user_query = \"How to do lean bulking?\""
      ],
      "metadata": {
        "collapsed": true,
        "id": "ypW7grOkdqIF"
      },
      "execution_count": null,
      "outputs": []
    },
    {
      "cell_type": "markdown",
      "source": [
        "🔴 🔴 🔴 Helpers - Start: 🔴 🔴 🔴"
      ],
      "metadata": {
        "id": "1auJ3xH9j9eh"
      }
    },
    {
      "cell_type": "code",
      "source": [
        "# collection.delete_many({})"
      ],
      "metadata": {
        "collapsed": true,
        "id": "ExQyB96kjCwi"
      },
      "execution_count": null,
      "outputs": []
    },
    {
      "cell_type": "code",
      "source": [
        "# !pip install --quiet -U google-generativeai\n",
        "# !pip install pymongo\n",
        "\n",
        "# from google.colab import userdata\n",
        "# import google.generativeai as genai\n",
        "# from pymongo import MongoClient\n",
        "\n",
        "# text_embedding_model = \"models/text-embedding-004\"\n",
        "# llm_model = 'gemini-1.5-flash'\n",
        "# GOOGLE_API_KEY = userdata.get('GOOGLE_API_KEY')\n",
        "\n",
        "# genai.configure(api_key=GOOGLE_API_KEY)\n",
        "# gemini_model = genai.GenerativeModel(llm_model)\n",
        "\n",
        "# client = MongoClient(userdata.get('MONGODB_URI'))\n",
        "# collection = client['mm_rag']['pdfs']"
      ],
      "metadata": {
        "id": "o2byzAYt6RPc"
      },
      "execution_count": null,
      "outputs": []
    },
    {
      "cell_type": "markdown",
      "source": [
        "🔴 🔴 🔴 Helpers - End 🔴 🔴 🔴"
      ],
      "metadata": {
        "id": "gV4GeWs8j_CO"
      }
    },
    {
      "cell_type": "code",
      "source": [
        "embedded_user_query = genai.embed_content(model=text_embedding_model, content=user_query)['embedding']\n",
        "\n",
        "print(len(embedded_user_query))"
      ],
      "metadata": {
        "id": "4qfCU8EjeCh9",
        "colab": {
          "base_uri": "https://localhost:8080/",
          "height": 34
        },
        "outputId": "91189998-1bc1-46ba-c61a-480687887c49"
      },
      "execution_count": null,
      "outputs": [
        {
          "output_type": "stream",
          "name": "stdout",
          "text": [
            "768\n"
          ]
        }
      ]
    },
    {
      "cell_type": "code",
      "source": [
        "relevant_chunks = list(collection.aggregate([\n",
        "  {\n",
        "    \"$vectorSearch\": {\n",
        "      \"index\": \"idx_mmrag_pdfs\",\n",
        "      \"path\": \"embedding\",\n",
        "      \"queryVector\": embedded_user_query,\n",
        "      \"numCandidates\": 10,\n",
        "      \"limit\": 5\n",
        "    }\n",
        "  },\n",
        "  {\n",
        "    \"$project\": {\n",
        "      \"_id\": 0,\n",
        "      \"filename\": 1,\n",
        "      \"type\": 1,\n",
        "      \"text\": 1,\n",
        "      \"base64_image\": 1,\n",
        "      \"score\": { \"$meta\": \"vectorSearchScore\" }\n",
        "    }\n",
        "  }\n",
        "]))"
      ],
      "metadata": {
        "id": "4A8IC9jYe7n0"
      },
      "execution_count": null,
      "outputs": []
    },
    {
      "cell_type": "code",
      "source": [
        "relevant_chunks"
      ],
      "metadata": {
        "id": "JXblKqcs5jJF",
        "colab": {
          "base_uri": "https://localhost:8080/"
        },
        "outputId": "3b488582-b3c8-4bc6-ba9c-c68b5db97643"
      },
      "execution_count": null,
      "outputs": [
        {
          "output_type": "execute_result",
          "data": {
            "text/plain": [
              "[{'type': 'audio',\n",
              "  'filename': 'lean_bulking.mp3',\n",
              "  'text': 'This video talks about the concept of \"bulking,\" a strategy of consuming more calories than you would normally expend to fuel muscle growth. The video then goes into detail about \"lean bulking,\" which is a strategy that aims to minimize fat gain while maximizing muscle gains. The video explains that lean bulking requires a more calculated approach to calorie intake, as it is important to not exceed the amount you burn by a large margin, and that it is important to get enough protein. The video also mentions that it is crucial to follow a resistance training program, to adjust your calorie intake based on your ongoing results, and to get most of your food from healthy whole foods. The video ends with a call to action for viewers to join the PictureFit Discord',\n",
              "  'score': 0.8732060194015503},\n",
              " {'type': 'text',\n",
              "  'filename': 'gym_supps.pdf',\n",
              "  'text': 'Enhancing Muscle Growth and Performance',\n",
              "  'score': 0.737373948097229},\n",
              " {'type': 'text',\n",
              "  'filename': 'gym_supps.pdf',\n",
              "  'text': 'can experience significant gains in lean muscle tissue and overall physical performance, making it a go-to supplement for those looking to maximize their workout results.',\n",
              "  'score': 0.736842691898346},\n",
              " {'type': 'text',\n",
              "  'filename': 'gym_supps.pdf',\n",
              "  'text': 'Beyond muscle building, whey protein plays a crucial role in weight management. It is a highly satiating nutrient, meaning it helps you feel full longer, which can reduce overall calorie intake. Incorporating whey protein into meals or snacks can curb hunger and prevent overeating, making it easier to stick to a calorie-controlled diet. Moreover, whey protein has been shown to boost metabolism, promoting the burning of calories even at rest. This thermogenic effect, combined with its ability to preserve lean muscle mass during weight loss, makes whey protein an excellent tool for those looking to shed excess fat while maintaining a toned and fit body.',\n",
              "  'score': 0.7285447120666504},\n",
              " {'type': 'image',\n",
              "  'base64_image': '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',\n",
              "  'filename': 'gym_supps.pdf',\n",
              "  'text': 'Image: A bar chart comparing the percentage gains in lean muscle mass, bench press, squat, and negative side effects between creatine and placebo groups during weight training. Creatine had significantly higher gains in lean muscle mass, bench press and squat.  The negative side effects were minimal for both groups.',\n",
              "  'score': 0.7285304069519043}]"
            ]
          },
          "metadata": {},
          "execution_count": 67
        }
      ]
    },
    {
      "cell_type": "markdown",
      "source": [
        "# Phase 4 (RAG in action - Augment LLM with relevant docs 🤖):\n",
        "\n",
        "- Extract `text` field from results obtained\n",
        "- Pass these extracted `text`'s to LLM along with user query to generate a precise response against user query\n",
        "- `optional:` In those top `5` results obtained, if there are any images, extract & pass `base64` of them to user saying, they are matched images"
      ],
      "metadata": {
        "id": "C5F9vQcw32iN"
      }
    },
    {
      "cell_type": "code",
      "source": [
        "texts_to_llm = []\n",
        "image_summaries_to_llm = []\n",
        "base64_images_to_user_query = []\n",
        "\n",
        "for chunk in relevant_chunks:\n",
        "  if chunk[\"type\"] == \"text\" or chunk[\"type\"] == \"audio\":\n",
        "    texts_to_llm.append(chunk[\"text\"])\n",
        "  else:\n",
        "    image_summaries_to_llm.append(chunk[\"text\"])\n",
        "    base64_images_to_user_query.append(chunk[\"base64_image\"])"
      ],
      "metadata": {
        "id": "9FxwKLqC312l"
      },
      "execution_count": null,
      "outputs": []
    },
    {
      "cell_type": "code",
      "source": [
        "print(len(texts_to_llm))\n",
        "texts_to_llm"
      ],
      "metadata": {
        "colab": {
          "base_uri": "https://localhost:8080/"
        },
        "id": "ebsNDBjN52NB",
        "outputId": "0bcb0770-e139-4222-bbdd-ca39203d45ca"
      },
      "execution_count": null,
      "outputs": [
        {
          "output_type": "stream",
          "name": "stdout",
          "text": [
            "4\n"
          ]
        },
        {
          "output_type": "execute_result",
          "data": {
            "text/plain": [
              "['This video talks about the concept of \"bulking,\" a strategy of consuming more calories than you would normally expend to fuel muscle growth. The video then goes into detail about \"lean bulking,\" which is a strategy that aims to minimize fat gain while maximizing muscle gains. The video explains that lean bulking requires a more calculated approach to calorie intake, as it is important to not exceed the amount you burn by a large margin, and that it is important to get enough protein. The video also mentions that it is crucial to follow a resistance training program, to adjust your calorie intake based on your ongoing results, and to get most of your food from healthy whole foods. The video ends with a call to action for viewers to join the PictureFit Discord',\n",
              " 'Enhancing Muscle Growth and Performance',\n",
              " 'can experience significant gains in lean muscle tissue and overall physical performance, making it a go-to supplement for those looking to maximize their workout results.',\n",
              " 'Beyond muscle building, whey protein plays a crucial role in weight management. It is a highly satiating nutrient, meaning it helps you feel full longer, which can reduce overall calorie intake. Incorporating whey protein into meals or snacks can curb hunger and prevent overeating, making it easier to stick to a calorie-controlled diet. Moreover, whey protein has been shown to boost metabolism, promoting the burning of calories even at rest. This thermogenic effect, combined with its ability to preserve lean muscle mass during weight loss, makes whey protein an excellent tool for those looking to shed excess fat while maintaining a toned and fit body.']"
            ]
          },
          "metadata": {},
          "execution_count": 69
        }
      ]
    },
    {
      "cell_type": "code",
      "source": [
        "print(len(image_summaries_to_llm))\n",
        "image_summaries_to_llm"
      ],
      "metadata": {
        "colab": {
          "base_uri": "https://localhost:8080/"
        },
        "id": "uhjXwMhf54MS",
        "outputId": "586903d9-b058-4fd3-9b7a-4f14b8d2ec0b"
      },
      "execution_count": null,
      "outputs": [
        {
          "output_type": "stream",
          "name": "stdout",
          "text": [
            "1\n"
          ]
        },
        {
          "output_type": "execute_result",
          "data": {
            "text/plain": [
              "['Image: A bar chart comparing the percentage gains in lean muscle mass, bench press, squat, and negative side effects between creatine and placebo groups during weight training. Creatine had significantly higher gains in lean muscle mass, bench press and squat.  The negative side effects were minimal for both groups.']"
            ]
          },
          "metadata": {},
          "execution_count": 70
        }
      ]
    },
    {
      "cell_type": "code",
      "source": [
        "len(base64_images_to_user_query)"
      ],
      "metadata": {
        "colab": {
          "base_uri": "https://localhost:8080/"
        },
        "id": "WlizFfwZ_1dz",
        "outputId": "562fa99b-daa3-4e0a-caa9-326a1f0032f2"
      },
      "execution_count": null,
      "outputs": [
        {
          "output_type": "execute_result",
          "data": {
            "text/plain": [
              "1"
            ]
          },
          "metadata": {},
          "execution_count": 71
        }
      ]
    },
    {
      "cell_type": "code",
      "source": [
        "llm_prompt = f\"\"\"\n",
        "Here are some relevant passages I found about {user_query}:\n",
        "\n",
        "{texts_to_llm}\n",
        "\n",
        "Additionally, these are image summaries found related to the same query:\n",
        "\n",
        "{image_summaries_to_llm}\n",
        "\n",
        "Based on the information above, can you provide a short and crisp response to the query?\n",
        "\"\"\"\n",
        "\n",
        "response_to_user = gemini_model.generate_content([llm_prompt])"
      ],
      "metadata": {
        "id": "-iJh9cRHAHb7"
      },
      "execution_count": null,
      "outputs": []
    },
    {
      "cell_type": "code",
      "source": [
        "from IPython import display\n",
        "\n",
        "images_html = \"\"\n",
        "for i in range(len(base64_images_to_user_query)):\n",
        "  images_html += f'<img src=\"data:image/png;base64,{base64_images_to_user_query[i]}\" />'\n",
        "\n",
        "print(\"Query: \" + user_query)\n",
        "print(\"Answer: \" + response_to_user.text)\n",
        "display.HTML(images_html)"
      ],
      "metadata": {
        "colab": {
          "base_uri": "https://localhost:8080/",
          "height": 775
        },
        "id": "87aixO2HBCOj",
        "outputId": "2a45f1db-713b-4820-e002-903293bfd0c7"
      },
      "execution_count": null,
      "outputs": [
        {
          "output_type": "stream",
          "name": "stdout",
          "text": [
            "Query: How to do lean bulking?\n",
            "Answer: Lean bulking is a strategy for gaining muscle while minimizing fat gain. It involves carefully calculating calorie intake, getting enough protein, following a resistance training program, and adjusting your diet based on results. Consuming whey protein can contribute to both muscle growth and weight management by promoting satiety, boosting metabolism, and preserving lean muscle during weight loss. \n",
            "\n"
          ]
        },
        {
          "output_type": "execute_result",
          "data": {
            "text/plain": [
              "<IPython.core.display.HTML object>"
            ],
            "text/html": [
              "<img src=\"data:image/png;base64,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\" />"
            ]
          },
          "metadata": {},
          "execution_count": 73
        }
      ]
    },
    {
      "cell_type": "markdown",
      "source": [
        "# Phase 5 (Clean up 🛀):\n",
        "\n",
        "- Clear all file system"
      ],
      "metadata": {
        "id": "MCtDW-JwGRhr"
      }
    },
    {
      "cell_type": "code",
      "source": [
        "!rm -rf pdfs\n",
        "!rm -rf images\n",
        "!rm -rf audios"
      ],
      "metadata": {
        "id": "BRUbWEtWGP41"
      },
      "execution_count": null,
      "outputs": []
    },
    {
      "cell_type": "markdown",
      "source": [
        "# The END 😀"
      ],
      "metadata": {
        "id": "-z8U6KpaG7E5"
      }
    }
  ]
}
